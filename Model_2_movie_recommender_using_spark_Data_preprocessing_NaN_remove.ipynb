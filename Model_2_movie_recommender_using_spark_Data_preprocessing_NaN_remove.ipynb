{
  "nbformat": 4,
  "nbformat_minor": 0,
  "metadata": {
    "colab": {
      "provenance": [],
      "include_colab_link": true
    },
    "kernelspec": {
      "name": "python3",
      "display_name": "Python 3"
    },
    "language_info": {
      "name": "python"
    }
  },
  "cells": [
    {
      "cell_type": "markdown",
      "metadata": {
        "id": "view-in-github",
        "colab_type": "text"
      },
      "source": [
        "<a href=\"https://colab.research.google.com/github/TausifShahanshah/Movie-Recommendation-using-PySpark-Big-Data/blob/main/Model_2_movie_recommender_using_spark_Data_preprocessing_NaN_remove.ipynb\" target=\"_parent\"><img src=\"https://colab.research.google.com/assets/colab-badge.svg\" alt=\"Open In Colab\"/></a>"
      ]
    },
    {
      "cell_type": "code",
      "execution_count": null,
      "metadata": {
        "id": "cn77IIBe3Hiv",
        "outputId": "ba695f00-a852-489f-801a-ee844822db5c",
        "colab": {
          "base_uri": "https://localhost:8080/",
          "height": 403
        }
      },
      "outputs": [
        {
          "output_type": "error",
          "ename": "ModuleNotFoundError",
          "evalue": "ignored",
          "traceback": [
            "\u001b[0;31m---------------------------------------------------------------------------\u001b[0m",
            "\u001b[0;31mModuleNotFoundError\u001b[0m                       Traceback (most recent call last)",
            "\u001b[0;32m<ipython-input-1-b9241bd10137>\u001b[0m in \u001b[0;36m<cell line: 1>\u001b[0;34m()\u001b[0m\n\u001b[0;32m----> 1\u001b[0;31m \u001b[0;32mfrom\u001b[0m \u001b[0mpyspark\u001b[0m\u001b[0;34m.\u001b[0m\u001b[0msql\u001b[0m \u001b[0;32mimport\u001b[0m \u001b[0mSparkSession\u001b[0m\u001b[0;34m\u001b[0m\u001b[0;34m\u001b[0m\u001b[0m\n\u001b[0m\u001b[1;32m      2\u001b[0m \u001b[0;32mfrom\u001b[0m \u001b[0mpyspark\u001b[0m\u001b[0;34m.\u001b[0m\u001b[0mml\u001b[0m\u001b[0;34m.\u001b[0m\u001b[0mevaluation\u001b[0m \u001b[0;32mimport\u001b[0m \u001b[0mRegressionEvaluator\u001b[0m\u001b[0;34m\u001b[0m\u001b[0;34m\u001b[0m\u001b[0m\n\u001b[1;32m      3\u001b[0m \u001b[0;32mfrom\u001b[0m \u001b[0mpyspark\u001b[0m\u001b[0;34m.\u001b[0m\u001b[0mml\u001b[0m\u001b[0;34m.\u001b[0m\u001b[0mrecommendation\u001b[0m \u001b[0;32mimport\u001b[0m \u001b[0mALS\u001b[0m\u001b[0;34m\u001b[0m\u001b[0;34m\u001b[0m\u001b[0m\n\u001b[1;32m      4\u001b[0m \u001b[0;32mfrom\u001b[0m \u001b[0mpyspark\u001b[0m\u001b[0;34m.\u001b[0m\u001b[0msql\u001b[0m\u001b[0;34m.\u001b[0m\u001b[0mfunctions\u001b[0m \u001b[0;32mimport\u001b[0m \u001b[0misnan\u001b[0m\u001b[0;34m\u001b[0m\u001b[0;34m\u001b[0m\u001b[0m\n\u001b[1;32m      5\u001b[0m \u001b[0;34m\u001b[0m\u001b[0m\n",
            "\u001b[0;31mModuleNotFoundError\u001b[0m: No module named 'pyspark'",
            "",
            "\u001b[0;31m---------------------------------------------------------------------------\u001b[0;32m\nNOTE: If your import is failing due to a missing package, you can\nmanually install dependencies using either !pip or !apt.\n\nTo view examples of installing some common dependencies, click the\n\"Open Examples\" button below.\n\u001b[0;31m---------------------------------------------------------------------------\u001b[0m\n"
          ],
          "errorDetails": {
            "actions": [
              {
                "action": "open_url",
                "actionText": "Open Examples",
                "url": "/notebooks/snippets/importing_libraries.ipynb"
              }
            ]
          }
        }
      ],
      "source": [
        "from pyspark.sql import SparkSession\n",
        "from pyspark.ml.evaluation import RegressionEvaluator\n",
        "from pyspark.ml.recommendation import ALS\n",
        "from pyspark.sql.functions import isnan\n",
        "\n",
        "# Create the SparkSession\n",
        "spark = SparkSession.builder.appName(\"recommendation\").getOrCreate()\n",
        "\n",
        "# Load the data from CSV\n",
        "data = spark.read.csv('/content/drive/MyDrive/PySpark_BigData_Movie_Recommendations/DataSet/ml-25m/ml-25m/ratings.csv', inferSchema=True, header=True)\n",
        "\n",
        "# Check for NaN values in the 'rating' column\n",
        "data.filter(isnan('rating')).show()\n",
        "\n",
        "# Drop rows with NaN values in the 'rating' column\n",
        "data = data.dropna(subset=['rating'])\n",
        "\n",
        "# Split the data into training and test sets\n",
        "(train_data, test_data) = data.randomSplit([0.8, 0.2], seed=42)\n",
        "\n",
        "# Build the recommendation model using ALS on the training data\n",
        "als = ALS(maxIter=5, regParam=0.01, userCol=\"userId\", itemCol=\"movieId\", ratingCol=\"rating\")\n",
        "model = als.fit(train_data)\n",
        "\n",
        "# Evaluate the model by computing the RMSE on the test data\n",
        "predictions = model.transform(test_data)\n",
        "\n",
        "# Check for NaN values in the 'prediction' column in the predictions DataFrame\n",
        "predictions.filter(isnan('prediction')).show()\n",
        "\n",
        "# Filter out rows with NaN values in the 'prediction' column from the predictions DataFrame\n",
        "predictions = predictions.dropna(subset=['prediction'])\n",
        "\n",
        "# Import the necessary classes\n",
        "from pyspark.ml.evaluation import RegressionEvaluator\n",
        "\n",
        "# Create the evaluator\n",
        "evaluator = RegressionEvaluator(labelCol=\"rating\")\n",
        "\n",
        "# Calculate the RMSE\n",
        "rmse = evaluator.evaluate(predictions)\n",
        "\n",
        "# Print the RMSE as a float value\n",
        "print(f\"RMSE: {rmse:.2f}\")\n",
        "\n",
        "# Show single user's ratings from the test data\n",
        "single_user = test_data.filter(test_data['userId'] == 12).select(['movieId', 'userId'])\n",
        "single_user.show()\n",
        "\n",
        "# Get recommendations for the single user\n",
        "recommendations = model.transform(single_user)\n",
        "\n",
        "# Show recommendations sorted by prediction score in descending order\n",
        "recommendations.orderBy('prediction', ascending=False).show()\n"
      ]
    }
  ]
}