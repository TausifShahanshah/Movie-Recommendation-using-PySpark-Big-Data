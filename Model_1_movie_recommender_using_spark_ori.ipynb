{
  "nbformat": 4,
  "nbformat_minor": 0,
  "metadata": {
    "colab": {
      "provenance": [],
      "include_colab_link": true
    },
    "kernelspec": {
      "name": "python3",
      "display_name": "Python 3"
    },
    "language_info": {
      "name": "python"
    }
  },
  "cells": [
    {
      "cell_type": "markdown",
      "metadata": {
        "id": "view-in-github",
        "colab_type": "text"
      },
      "source": [
        "<a href=\"https://colab.research.google.com/github/TausifShahanshah/Movie-Recommendation-using-PySpark-Big-Data/blob/main/Model_1_movie_recommender_using_spark_ori.ipynb\" target=\"_parent\"><img src=\"https://colab.research.google.com/assets/colab-badge.svg\" alt=\"Open In Colab\"/></a>"
      ]
    },
    {
      "cell_type": "code",
      "source": [
        "from google.colab import drive\n",
        "drive.mount('/content/drive')"
      ],
      "metadata": {
        "colab": {
          "base_uri": "https://localhost:8080/"
        },
        "id": "sWjH82RtcqR8",
        "outputId": "eee7c68e-c370-4b9c-bb99-738d1a67ea57"
      },
      "execution_count": null,
      "outputs": [
        {
          "output_type": "stream",
          "name": "stdout",
          "text": [
            "Mounted at /content/drive\n"
          ]
        }
      ]
    },
    {
      "cell_type": "code",
      "source": [
        "pip install findspark"
      ],
      "metadata": {
        "colab": {
          "base_uri": "https://localhost:8080/"
        },
        "id": "XBpZc2cic20h",
        "outputId": "288d3984-85df-439e-f1b6-a02e829aa918"
      },
      "execution_count": null,
      "outputs": [
        {
          "output_type": "stream",
          "name": "stdout",
          "text": [
            "Collecting findspark\n",
            "  Downloading findspark-2.0.1-py2.py3-none-any.whl (4.4 kB)\n",
            "Installing collected packages: findspark\n",
            "Successfully installed findspark-2.0.1\n"
          ]
        }
      ]
    },
    {
      "cell_type": "code",
      "source": [
        "pip install pyspark"
      ],
      "metadata": {
        "colab": {
          "base_uri": "https://localhost:8080/"
        },
        "id": "Nj-U52msEI4j",
        "outputId": "2d170e51-2b69-4249-c123-70c3f1965d7f"
      },
      "execution_count": null,
      "outputs": [
        {
          "output_type": "stream",
          "name": "stdout",
          "text": [
            "Collecting pyspark\n",
            "  Downloading pyspark-3.4.1.tar.gz (310.8 MB)\n",
            "\u001b[2K     \u001b[90m━━━━━━━━━━━━━━━━━━━━━━━━━━━━━━━━━━━━━━━\u001b[0m \u001b[32m310.8/310.8 MB\u001b[0m \u001b[31m3.6 MB/s\u001b[0m eta \u001b[36m0:00:00\u001b[0m\n",
            "\u001b[?25h  Preparing metadata (setup.py) ... \u001b[?25l\u001b[?25hdone\n",
            "Requirement already satisfied: py4j==0.10.9.7 in /usr/local/lib/python3.10/dist-packages (from pyspark) (0.10.9.7)\n",
            "Building wheels for collected packages: pyspark\n",
            "  Building wheel for pyspark (setup.py) ... \u001b[?25l\u001b[?25hdone\n",
            "  Created wheel for pyspark: filename=pyspark-3.4.1-py2.py3-none-any.whl size=311285397 sha256=fa18e90f9c95dd4d6eab2ad1c2d75bf931697fd970cb48496b3b9f63fb350309\n",
            "  Stored in directory: /root/.cache/pip/wheels/0d/77/a3/ff2f74cc9ab41f8f594dabf0579c2a7c6de920d584206e0834\n",
            "Successfully built pyspark\n",
            "Installing collected packages: pyspark\n",
            "Successfully installed pyspark-3.4.1\n"
          ]
        }
      ]
    },
    {
      "cell_type": "code",
      "execution_count": null,
      "metadata": {
        "id": "KSTMnpaucdy4"
      },
      "outputs": [],
      "source": [
        "import pyspark\n",
        "from pyspark.sql import SparkSession\n",
        "from pyspark.ml.evaluation import RegressionEvaluator\n",
        "from pyspark.ml.recommendation import ALS"
      ]
    },
    {
      "cell_type": "code",
      "source": [
        "spark = SparkSession.builder.appName(\"recommendation\").getOrCreate()\n"
      ],
      "metadata": {
        "id": "ByIspAgqEoFO"
      },
      "execution_count": null,
      "outputs": []
    },
    {
      "cell_type": "code",
      "source": [
        "data = spark.read.csv('/content/drive/MyDrive/PySpark_BigData_Movie_Recommendations/DataSet/ml-25m/ml-25m/ratings.csv',inferSchema=True,header=True)"
      ],
      "metadata": {
        "id": "Lh2oNrz5cv4j"
      },
      "execution_count": null,
      "outputs": []
    },
    {
      "cell_type": "code",
      "source": [
        "data.show()"
      ],
      "metadata": {
        "colab": {
          "base_uri": "https://localhost:8080/"
        },
        "id": "GkT6PcadF59S",
        "outputId": "ef49c45d-985d-4143-965b-bb634508ad23"
      },
      "execution_count": null,
      "outputs": [
        {
          "output_type": "stream",
          "name": "stdout",
          "text": [
            "+------+-------+------+----------+\n",
            "|userId|movieId|rating| timestamp|\n",
            "+------+-------+------+----------+\n",
            "|     1|    296|   5.0|1147880044|\n",
            "|     1|    306|   3.5|1147868817|\n",
            "|     1|    307|   5.0|1147868828|\n",
            "|     1|    665|   5.0|1147878820|\n",
            "|     1|    899|   3.5|1147868510|\n",
            "|     1|   1088|   4.0|1147868495|\n",
            "|     1|   1175|   3.5|1147868826|\n",
            "|     1|   1217|   3.5|1147878326|\n",
            "|     1|   1237|   5.0|1147868839|\n",
            "|     1|   1250|   4.0|1147868414|\n",
            "|     1|   1260|   3.5|1147877857|\n",
            "|     1|   1653|   4.0|1147868097|\n",
            "|     1|   2011|   2.5|1147868079|\n",
            "|     1|   2012|   2.5|1147868068|\n",
            "|     1|   2068|   2.5|1147869044|\n",
            "|     1|   2161|   3.5|1147868609|\n",
            "|     1|   2351|   4.5|1147877957|\n",
            "|     1|   2573|   4.0|1147878923|\n",
            "|     1|   2632|   5.0|1147878248|\n",
            "|     1|   2692|   5.0|1147869100|\n",
            "+------+-------+------+----------+\n",
            "only showing top 20 rows\n",
            "\n"
          ]
        }
      ]
    },
    {
      "cell_type": "code",
      "source": [
        "\n",
        "data.head()"
      ],
      "metadata": {
        "colab": {
          "base_uri": "https://localhost:8080/"
        },
        "id": "8hnQvyE7cwz4",
        "outputId": "dc2336e4-dc00-4912-dda6-2e71e3810b18"
      },
      "execution_count": null,
      "outputs": [
        {
          "output_type": "execute_result",
          "data": {
            "text/plain": [
              "Row(userId=1, movieId=296, rating=5.0, timestamp=1147880044)"
            ]
          },
          "metadata": {},
          "execution_count": 14
        }
      ]
    },
    {
      "cell_type": "code",
      "source": [
        "\n",
        "data.printSchema()"
      ],
      "metadata": {
        "colab": {
          "base_uri": "https://localhost:8080/"
        },
        "id": "k3h6OoTTcw2s",
        "outputId": "8ae02704-1171-41bb-95b6-168db93303f8"
      },
      "execution_count": null,
      "outputs": [
        {
          "output_type": "stream",
          "name": "stdout",
          "text": [
            "root\n",
            " |-- userId: integer (nullable = true)\n",
            " |-- movieId: integer (nullable = true)\n",
            " |-- rating: double (nullable = true)\n",
            " |-- timestamp: integer (nullable = true)\n",
            "\n"
          ]
        }
      ]
    },
    {
      "cell_type": "code",
      "source": [
        "\n",
        "data.describe().show()"
      ],
      "metadata": {
        "colab": {
          "base_uri": "https://localhost:8080/"
        },
        "id": "EW5Va71Kcw5M",
        "outputId": "0b2df3df-04b9-4e74-8328-c43943d744c0"
      },
      "execution_count": null,
      "outputs": [
        {
          "output_type": "stream",
          "name": "stdout",
          "text": [
            "+-------+-----------------+------------------+------------------+--------------------+\n",
            "|summary|           userId|           movieId|            rating|           timestamp|\n",
            "+-------+-----------------+------------------+------------------+--------------------+\n",
            "|  count|         25000095|          25000095|          25000095|            25000095|\n",
            "|   mean|81189.28115381162|21387.981943268616| 3.533854451353085|1.2156014431215513E9|\n",
            "| stddev|46791.71589745776| 39198.86210105973|1.0607439611423535| 2.268758080595386E8|\n",
            "|    min|                1|                 1|               0.5|           789652009|\n",
            "|    max|           162541|            209171|               5.0|          1574327703|\n",
            "+-------+-----------------+------------------+------------------+--------------------+\n",
            "\n"
          ]
        }
      ]
    },
    {
      "cell_type": "code",
      "source": [
        "# Smaller dataset so we will use 0.8 / 0.2\n",
        "(train_data, test_data) = data.randomSplit([0.8, 0.2], seed=42)"
      ],
      "metadata": {
        "id": "-MXpINCXc_n5"
      },
      "execution_count": null,
      "outputs": []
    },
    {
      "cell_type": "code",
      "source": [
        "# Build the recommendation model using ALS on the training data\n",
        "als = ALS(maxIter=5, regParam=0.01, userCol=\"userId\", itemCol=\"movieId\", ratingCol=\"rating\")\n",
        "model = als.fit(train_data)"
      ],
      "metadata": {
        "id": "UreFpWiCc_qR"
      },
      "execution_count": null,
      "outputs": []
    },
    {
      "cell_type": "code",
      "source": [
        "\n",
        "# Evaluate the model by computing the RMSE on the test data\n",
        "predictions = model.transform(test_data)"
      ],
      "metadata": {
        "id": "HiqD-n7tdE8H"
      },
      "execution_count": null,
      "outputs": []
    },
    {
      "cell_type": "code",
      "source": [
        "\n",
        "predictions.show()"
      ],
      "metadata": {
        "colab": {
          "base_uri": "https://localhost:8080/"
        },
        "id": "Hr35yuE8dE-y",
        "outputId": "2f1ff927-e19b-4c22-a45d-44f2fa41de26"
      },
      "execution_count": null,
      "outputs": [
        {
          "output_type": "stream",
          "name": "stdout",
          "text": [
            "+------+-------+------+----------+----------+\n",
            "|userId|movieId|rating| timestamp|prediction|\n",
            "+------+-------+------+----------+----------+\n",
            "|     1|    307|   5.0|1147868828| 4.0434666|\n",
            "|     1|   1175|   3.5|1147868826|  4.469938|\n",
            "|     1|   1237|   5.0|1147868839| 3.9969754|\n",
            "|     1|   2012|   2.5|1147868068| 2.7791977|\n",
            "|     1|   2692|   5.0|1147869100| 4.4192047|\n",
            "|     1|   3949|   5.0|1147868678| 3.8163218|\n",
            "|     1|   4973|   4.5|1147869080|  4.101731|\n",
            "|     1|   5912|   3.0|1147878698|  4.912349|\n",
            "|     1|   7318|   2.0|1147879850| 1.7260106|\n",
            "|     1|   7323|   3.5|1147869119|  4.031815|\n",
            "|     1|   7327|   3.5|1147868855|  3.641981|\n",
            "|     1|   7365|   4.0|1147869033|  3.331927|\n",
            "|     1|   7937|   3.0|1147878055|  3.346899|\n",
            "|     1|   8014|   3.5|1147869155| 4.1159987|\n",
            "|     1|   8786|   4.0|1147877853| 3.9367113|\n",
            "|     1|  32591|   5.0|1147879538| 4.5896635|\n",
            "| 32906|   1188|   5.0| 965797754|  4.416707|\n",
            "| 32906|   1203|   5.0| 965802215|  4.896045|\n",
            "| 32906|   1204|   5.0| 965798677| 4.9665103|\n",
            "| 32906|   1233|   5.0| 965798677|  4.772892|\n",
            "+------+-------+------+----------+----------+\n",
            "only showing top 20 rows\n",
            "\n"
          ]
        }
      ]
    },
    {
      "cell_type": "code",
      "source": [
        "evaluator = RegressionEvaluator(metricName=\"rmse\", labelCol=\"rating\",predictionCol=\"prediction\")\n",
        "rmse = evaluator.evaluate(predictions)\n",
        "print(f\"RMSE:{rmse}\")\n",
        "# print(\"Root-mean-square error = \" + str(rmse))"
      ],
      "metadata": {
        "colab": {
          "base_uri": "https://localhost:8080/"
        },
        "id": "57JqLWYNdFNX",
        "outputId": "d02100a9-fb97-4769-935a-b742374ce0be"
      },
      "execution_count": null,
      "outputs": [
        {
          "output_type": "stream",
          "name": "stdout",
          "text": [
            "RMSE:nan\n"
          ]
        }
      ]
    },
    {
      "cell_type": "markdown",
      "source": [
        "RMSE describe our error in terms of star rating column"
      ],
      "metadata": {
        "id": "SW4NyKYlJZJp"
      }
    },
    {
      "cell_type": "code",
      "source": [
        "\n",
        "single_user = test_data.filter(test_data['userId']==12).select(['movieId','userId'])"
      ],
      "metadata": {
        "id": "uO6B5wQ2dFP_"
      },
      "execution_count": null,
      "outputs": []
    },
    {
      "cell_type": "code",
      "source": [
        "\n",
        "# User had 10 ratings in the test data set\n",
        "# Realistically this should be some sort of hold out set!\n",
        "single_user.show()"
      ],
      "metadata": {
        "colab": {
          "base_uri": "https://localhost:8080/"
        },
        "id": "7KMt9HZ7dOgn",
        "outputId": "67488565-528f-425b-ac68-cf495dedd3c5"
      },
      "execution_count": null,
      "outputs": [
        {
          "output_type": "stream",
          "name": "stdout",
          "text": [
            "+-------+------+\n",
            "|movieId|userId|\n",
            "+-------+------+\n",
            "|      1|    12|\n",
            "|     50|    12|\n",
            "|     88|    12|\n",
            "|    101|    12|\n",
            "|    140|    12|\n",
            "|    163|    12|\n",
            "|    203|    12|\n",
            "|    209|    12|\n",
            "|    257|    12|\n",
            "|    319|    12|\n",
            "|    351|    12|\n",
            "|    377|    12|\n",
            "|    435|    12|\n",
            "|    441|    12|\n",
            "|    442|    12|\n",
            "|    471|    12|\n",
            "|    489|    12|\n",
            "|    497|    12|\n",
            "|    508|    12|\n",
            "|    524|    12|\n",
            "+-------+------+\n",
            "only showing top 20 rows\n",
            "\n"
          ]
        }
      ]
    },
    {
      "cell_type": "code",
      "source": [
        "\n",
        "reccomendations = model.transform(single_user)"
      ],
      "metadata": {
        "id": "_C6uNSlYdOjc"
      },
      "execution_count": null,
      "outputs": []
    },
    {
      "cell_type": "code",
      "source": [
        "\n",
        "reccomendations.orderBy('prediction',ascending=False).show()"
      ],
      "metadata": {
        "colab": {
          "base_uri": "https://localhost:8080/"
        },
        "id": "kSFRTq9VdOlp",
        "outputId": "31e24a37-58a2-41a8-be4e-fdd3e16862a5"
      },
      "execution_count": null,
      "outputs": [
        {
          "output_type": "stream",
          "name": "stdout",
          "text": [
            "+-------+------+----------+\n",
            "|movieId|userId|prediction|\n",
            "+-------+------+----------+\n",
            "|    926|    12| 4.2654324|\n",
            "|    745|    12|  4.255452|\n",
            "|   4973|    12| 4.2505665|\n",
            "|   1361|    12|  4.192606|\n",
            "|   1212|    12| 4.1667967|\n",
            "|   1136|    12| 4.1640124|\n",
            "|    858|    12|  4.104315|\n",
            "|   1219|    12| 4.0647836|\n",
            "|     50|    12| 4.0581856|\n",
            "|   1225|    12| 4.0229697|\n",
            "|    527|    12|  4.019446|\n",
            "|   3996|    12| 4.0162525|\n",
            "|   1175|    12| 3.9973946|\n",
            "|   1269|    12| 3.9454193|\n",
            "|  27790|    12| 3.9268074|\n",
            "|   1258|    12| 3.9266632|\n",
            "|   2788|    12|  3.921261|\n",
            "|  34148|    12| 3.8974822|\n",
            "|   6104|    12| 3.8962827|\n",
            "|   8951|    12| 3.8767612|\n",
            "+-------+------+----------+\n",
            "only showing top 20 rows\n",
            "\n"
          ]
        }
      ]
    }
  ]
}