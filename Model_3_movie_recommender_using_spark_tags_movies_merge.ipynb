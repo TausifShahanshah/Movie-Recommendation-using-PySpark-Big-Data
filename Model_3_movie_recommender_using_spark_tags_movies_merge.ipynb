{
  "cells": [
    {
      "cell_type": "markdown",
      "metadata": {
        "id": "view-in-github",
        "colab_type": "text"
      },
      "source": [
        "<a href=\"https://colab.research.google.com/github/TausifShahanshah/Movie-Recommendation-using-PySpark-Big-Data/blob/main/Model_3_movie_recommender_using_spark_tags_movies_merge.ipynb\" target=\"_parent\"><img src=\"https://colab.research.google.com/assets/colab-badge.svg\" alt=\"Open In Colab\"/></a>"
      ]
    },
    {
      "cell_type": "code",
      "execution_count": null,
      "metadata": {
        "colab": {
          "base_uri": "https://localhost:8080/"
        },
        "id": "TJZ3RZNI50jN",
        "outputId": "ffb5a8fc-b0e6-4705-fb3c-9d8d47e9494b"
      },
      "outputs": [
        {
          "output_type": "stream",
          "name": "stdout",
          "text": [
            "Collecting pyspark\n",
            "  Downloading pyspark-3.5.0.tar.gz (316.9 MB)\n",
            "\u001b[2K     \u001b[90m━━━━━━━━━━━━━━━━━━━━━━━━━━━━━━━━━━━━━━━━\u001b[0m \u001b[32m316.9/316.9 MB\u001b[0m \u001b[31m3.0 MB/s\u001b[0m eta \u001b[36m0:00:00\u001b[0m\n",
            "\u001b[?25h  Preparing metadata (setup.py) ... \u001b[?25l\u001b[?25hdone\n",
            "Requirement already satisfied: py4j==0.10.9.7 in /usr/local/lib/python3.10/dist-packages (from pyspark) (0.10.9.7)\n",
            "Building wheels for collected packages: pyspark\n",
            "  Building wheel for pyspark (setup.py) ... \u001b[?25l\u001b[?25hdone\n",
            "  Created wheel for pyspark: filename=pyspark-3.5.0-py2.py3-none-any.whl size=317425344 sha256=f46377255823a8460a10efe146d1776e6f357e6cc2cd5a503f611e24a3dcfd23\n",
            "  Stored in directory: /root/.cache/pip/wheels/41/4e/10/c2cf2467f71c678cfc8a6b9ac9241e5e44a01940da8fbb17fc\n",
            "Successfully built pyspark\n",
            "Installing collected packages: pyspark\n",
            "Successfully installed pyspark-3.5.0\n"
          ]
        }
      ],
      "source": [
        "\n",
        "pip install pyspark"
      ]
    },
    {
      "cell_type": "code",
      "execution_count": null,
      "metadata": {
        "colab": {
          "base_uri": "https://localhost:8080/",
          "height": 354
        },
        "id": "E99BANot515M",
        "outputId": "a64a1dab-fb95-45c2-f54a-d47203e2eca3"
      },
      "outputs": [
        {
          "output_type": "error",
          "ename": "MessageError",
          "evalue": "ignored",
          "traceback": [
            "\u001b[0;31m---------------------------------------------------------------------------\u001b[0m",
            "\u001b[0;31mMessageError\u001b[0m                              Traceback (most recent call last)",
            "\u001b[0;32m<ipython-input-3-d5df0069828e>\u001b[0m in \u001b[0;36m<cell line: 2>\u001b[0;34m()\u001b[0m\n\u001b[1;32m      1\u001b[0m \u001b[0;32mfrom\u001b[0m \u001b[0mgoogle\u001b[0m\u001b[0;34m.\u001b[0m\u001b[0mcolab\u001b[0m \u001b[0;32mimport\u001b[0m \u001b[0mdrive\u001b[0m\u001b[0;34m\u001b[0m\u001b[0;34m\u001b[0m\u001b[0m\n\u001b[0;32m----> 2\u001b[0;31m \u001b[0mdrive\u001b[0m\u001b[0;34m.\u001b[0m\u001b[0mmount\u001b[0m\u001b[0;34m(\u001b[0m\u001b[0;34m'/content/drive'\u001b[0m\u001b[0;34m)\u001b[0m\u001b[0;34m\u001b[0m\u001b[0;34m\u001b[0m\u001b[0m\n\u001b[0m",
            "\u001b[0;32m/usr/local/lib/python3.10/dist-packages/google/colab/drive.py\u001b[0m in \u001b[0;36mmount\u001b[0;34m(mountpoint, force_remount, timeout_ms, readonly)\u001b[0m\n\u001b[1;32m    101\u001b[0m \u001b[0;32mdef\u001b[0m \u001b[0mmount\u001b[0m\u001b[0;34m(\u001b[0m\u001b[0mmountpoint\u001b[0m\u001b[0;34m,\u001b[0m \u001b[0mforce_remount\u001b[0m\u001b[0;34m=\u001b[0m\u001b[0;32mFalse\u001b[0m\u001b[0;34m,\u001b[0m \u001b[0mtimeout_ms\u001b[0m\u001b[0;34m=\u001b[0m\u001b[0;36m120000\u001b[0m\u001b[0;34m,\u001b[0m \u001b[0mreadonly\u001b[0m\u001b[0;34m=\u001b[0m\u001b[0;32mFalse\u001b[0m\u001b[0;34m)\u001b[0m\u001b[0;34m:\u001b[0m\u001b[0;34m\u001b[0m\u001b[0;34m\u001b[0m\u001b[0m\n\u001b[1;32m    102\u001b[0m   \u001b[0;34m\"\"\"Mount your Google Drive at the specified mountpoint path.\"\"\"\u001b[0m\u001b[0;34m\u001b[0m\u001b[0;34m\u001b[0m\u001b[0m\n\u001b[0;32m--> 103\u001b[0;31m   return _mount(\n\u001b[0m\u001b[1;32m    104\u001b[0m       \u001b[0mmountpoint\u001b[0m\u001b[0;34m,\u001b[0m\u001b[0;34m\u001b[0m\u001b[0;34m\u001b[0m\u001b[0m\n\u001b[1;32m    105\u001b[0m       \u001b[0mforce_remount\u001b[0m\u001b[0;34m=\u001b[0m\u001b[0mforce_remount\u001b[0m\u001b[0;34m,\u001b[0m\u001b[0;34m\u001b[0m\u001b[0;34m\u001b[0m\u001b[0m\n",
            "\u001b[0;32m/usr/local/lib/python3.10/dist-packages/google/colab/drive.py\u001b[0m in \u001b[0;36m_mount\u001b[0;34m(mountpoint, force_remount, timeout_ms, ephemeral, readonly)\u001b[0m\n\u001b[1;32m    130\u001b[0m   )\n\u001b[1;32m    131\u001b[0m   \u001b[0;32mif\u001b[0m \u001b[0mephemeral\u001b[0m\u001b[0;34m:\u001b[0m\u001b[0;34m\u001b[0m\u001b[0;34m\u001b[0m\u001b[0m\n\u001b[0;32m--> 132\u001b[0;31m     _message.blocking_request(\n\u001b[0m\u001b[1;32m    133\u001b[0m         \u001b[0;34m'request_auth'\u001b[0m\u001b[0;34m,\u001b[0m \u001b[0mrequest\u001b[0m\u001b[0;34m=\u001b[0m\u001b[0;34m{\u001b[0m\u001b[0;34m'authType'\u001b[0m\u001b[0;34m:\u001b[0m \u001b[0;34m'dfs_ephemeral'\u001b[0m\u001b[0;34m}\u001b[0m\u001b[0;34m,\u001b[0m \u001b[0mtimeout_sec\u001b[0m\u001b[0;34m=\u001b[0m\u001b[0;32mNone\u001b[0m\u001b[0;34m\u001b[0m\u001b[0;34m\u001b[0m\u001b[0m\n\u001b[1;32m    134\u001b[0m     )\n",
            "\u001b[0;32m/usr/local/lib/python3.10/dist-packages/google/colab/_message.py\u001b[0m in \u001b[0;36mblocking_request\u001b[0;34m(request_type, request, timeout_sec, parent)\u001b[0m\n\u001b[1;32m    174\u001b[0m       \u001b[0mrequest_type\u001b[0m\u001b[0;34m,\u001b[0m \u001b[0mrequest\u001b[0m\u001b[0;34m,\u001b[0m \u001b[0mparent\u001b[0m\u001b[0;34m=\u001b[0m\u001b[0mparent\u001b[0m\u001b[0;34m,\u001b[0m \u001b[0mexpect_reply\u001b[0m\u001b[0;34m=\u001b[0m\u001b[0;32mTrue\u001b[0m\u001b[0;34m\u001b[0m\u001b[0;34m\u001b[0m\u001b[0m\n\u001b[1;32m    175\u001b[0m   )\n\u001b[0;32m--> 176\u001b[0;31m   \u001b[0;32mreturn\u001b[0m \u001b[0mread_reply_from_input\u001b[0m\u001b[0;34m(\u001b[0m\u001b[0mrequest_id\u001b[0m\u001b[0;34m,\u001b[0m \u001b[0mtimeout_sec\u001b[0m\u001b[0;34m)\u001b[0m\u001b[0;34m\u001b[0m\u001b[0;34m\u001b[0m\u001b[0m\n\u001b[0m",
            "\u001b[0;32m/usr/local/lib/python3.10/dist-packages/google/colab/_message.py\u001b[0m in \u001b[0;36mread_reply_from_input\u001b[0;34m(message_id, timeout_sec)\u001b[0m\n\u001b[1;32m    101\u001b[0m     ):\n\u001b[1;32m    102\u001b[0m       \u001b[0;32mif\u001b[0m \u001b[0;34m'error'\u001b[0m \u001b[0;32min\u001b[0m \u001b[0mreply\u001b[0m\u001b[0;34m:\u001b[0m\u001b[0;34m\u001b[0m\u001b[0;34m\u001b[0m\u001b[0m\n\u001b[0;32m--> 103\u001b[0;31m         \u001b[0;32mraise\u001b[0m \u001b[0mMessageError\u001b[0m\u001b[0;34m(\u001b[0m\u001b[0mreply\u001b[0m\u001b[0;34m[\u001b[0m\u001b[0;34m'error'\u001b[0m\u001b[0;34m]\u001b[0m\u001b[0;34m)\u001b[0m\u001b[0;34m\u001b[0m\u001b[0;34m\u001b[0m\u001b[0m\n\u001b[0m\u001b[1;32m    104\u001b[0m       \u001b[0;32mreturn\u001b[0m \u001b[0mreply\u001b[0m\u001b[0;34m.\u001b[0m\u001b[0mget\u001b[0m\u001b[0;34m(\u001b[0m\u001b[0;34m'data'\u001b[0m\u001b[0;34m,\u001b[0m \u001b[0;32mNone\u001b[0m\u001b[0;34m)\u001b[0m\u001b[0;34m\u001b[0m\u001b[0;34m\u001b[0m\u001b[0m\n\u001b[1;32m    105\u001b[0m \u001b[0;34m\u001b[0m\u001b[0m\n",
            "\u001b[0;31mMessageError\u001b[0m: Error: credential propagation was unsuccessful"
          ]
        }
      ],
      "source": [
        "from google.colab import drive\n",
        "drive.mount('/content/drive')\n"
      ]
    },
    {
      "cell_type": "code",
      "execution_count": null,
      "metadata": {
        "id": "ICz5McIVMplK"
      },
      "outputs": [],
      "source": [
        "from google.colab import drive\n",
        "drive.mount('/content/drive')"
      ]
    },
    {
      "cell_type": "code",
      "execution_count": null,
      "metadata": {
        "id": "w1EVWTwJ6e89"
      },
      "outputs": [],
      "source": [
        "from pyspark.sql import SparkSession\n",
        "from pyspark.sql import SQLContext\n",
        "from pyspark.ml.evaluation import RegressionEvaluator\n",
        "from pyspark.ml.recommendation import ALS\n",
        "from pyspark.sql.functions import udf, col,when\n",
        "import numpy as np\n",
        "from IPython.display import Image\n",
        "from IPython.display import display\n"
      ]
    },
    {
      "cell_type": "code",
      "execution_count": null,
      "metadata": {
        "colab": {
          "base_uri": "https://localhost:8080/"
        },
        "id": "987-B1hZ3dcL",
        "outputId": "a601fb9f-ea51-4df1-99e5-95d247f04bda"
      },
      "outputs": [
        {
          "name": "stderr",
          "output_type": "stream",
          "text": [
            "/usr/local/lib/python3.10/dist-packages/pyspark/sql/context.py:112: FutureWarning: Deprecated in 3.0.0. Use SparkSession.builder.getOrCreate() instead.\n",
            "  warnings.warn(\n"
          ]
        },
        {
          "name": "stdout",
          "output_type": "stream",
          "text": [
            "+------+-------+------+----------+\n",
            "|userId|movieId|rating| timestamp|\n",
            "+------+-------+------+----------+\n",
            "|     1|    296|   5.0|1147880044|\n",
            "|     1|    306|   3.5|1147868817|\n",
            "|     1|    307|   5.0|1147868828|\n",
            "|     1|    665|   5.0|1147878820|\n",
            "|     1|    899|   3.5|1147868510|\n",
            "|     1|   1088|   4.0|1147868495|\n",
            "|     1|   1175|   3.5|1147868826|\n",
            "|     1|   1217|   3.5|1147878326|\n",
            "|     1|   1237|   5.0|1147868839|\n",
            "|     1|   1250|   4.0|1147868414|\n",
            "|     1|   1260|   3.5|1147877857|\n",
            "|     1|   1653|   4.0|1147868097|\n",
            "|     1|   2011|   2.5|1147868079|\n",
            "|     1|   2012|   2.5|1147868068|\n",
            "|     1|   2068|   2.5|1147869044|\n",
            "|     1|   2161|   3.5|1147868609|\n",
            "|     1|   2351|   4.5|1147877957|\n",
            "|     1|   2573|   4.0|1147878923|\n",
            "|     1|   2632|   5.0|1147878248|\n",
            "|     1|   2692|   5.0|1147869100|\n",
            "+------+-------+------+----------+\n",
            "only showing top 20 rows\n",
            "\n",
            "root\n",
            " |-- userId: integer (nullable = true)\n",
            " |-- movieId: integer (nullable = true)\n",
            " |-- rating: double (nullable = true)\n",
            " |-- timestamp: integer (nullable = true)\n",
            "\n",
            "+-------+-----------------+------------------+------------------+--------------------+\n",
            "|summary|           userId|           movieId|            rating|           timestamp|\n",
            "+-------+-----------------+------------------+------------------+--------------------+\n",
            "|  count|         25000095|          25000095|          25000095|            25000095|\n",
            "|   mean|81189.28115381162|21387.981943268616| 3.533854451353085|1.2156014431215513E9|\n",
            "| stddev|46791.71589745776| 39198.86210105973|1.0607439611423535| 2.268758080595386E8|\n",
            "|    min|                1|                 1|               0.5|           789652009|\n",
            "|    max|           162541|            209171|               5.0|          1574327703|\n",
            "+-------+-----------------+------------------+------------------+--------------------+\n",
            "\n",
            "root\n",
            " |-- movieId: integer (nullable = true)\n",
            " |-- title: string (nullable = true)\n",
            " |-- genres: string (nullable = true)\n",
            "\n",
            "+-------+----------------+--------------------+\n",
            "|movieId|           title|              genres|\n",
            "+-------+----------------+--------------------+\n",
            "|      1|Toy Story (1995)|Adventure|Animati...|\n",
            "+-------+----------------+--------------------+\n",
            "only showing top 1 row\n",
            "\n",
            "root\n",
            " |-- movieId: integer (nullable = true)\n",
            " |-- imdbId: integer (nullable = true)\n",
            " |-- tmdbId: integer (nullable = true)\n",
            "\n"
          ]
        }
      ],
      "source": [
        "\n",
        "spark = SparkSession.builder.appName(\"recommendation\").getOrCreate()\n",
        "sc = spark.sparkContext\n",
        "sqlContext = SQLContext(sc)\n",
        "\n",
        "data = spark.read.csv('/content/drive/MyDrive/PySpark_BigData_Movie_Recommendations/DataSet/ml-25m/ml-25m/ratings.csv',inferSchema=True,header=True)\n",
        "\n",
        "data.show()\n",
        "data.head()\n",
        "data.printSchema()\n",
        "data.describe().show()\n",
        "\n",
        "movies_df = spark.read.csv(\"/content/drive/MyDrive/PySpark_BigData_Movie_Recommendations/DataSet/ml-25m/ml-25m/movies.csv\",inferSchema=True,header=True)\n",
        "movies_df.printSchema()\n",
        "movies_df.show(1)\n",
        "\n",
        "links_df = spark.read.csv(\"/content/drive/MyDrive/PySpark_BigData_Movie_Recommendations/DataSet/ml-25m/ml-25m/links.csv\",inferSchema=True,header=True)\n",
        "links_df.printSchema()\n",
        "\n"
      ]
    },
    {
      "cell_type": "code",
      "source": [
        "data.isnull().sum()"
      ],
      "metadata": {
        "colab": {
          "base_uri": "https://localhost:8080/",
          "height": 182
        },
        "id": "UPzf3Gqafu9g",
        "outputId": "207e289f-10e6-4702-9bd1-3f2ab72a30a0"
      },
      "execution_count": null,
      "outputs": [
        {
          "output_type": "error",
          "ename": "NameError",
          "evalue": "ignored",
          "traceback": [
            "\u001b[0;31m---------------------------------------------------------------------------\u001b[0m",
            "\u001b[0;31mNameError\u001b[0m                                 Traceback (most recent call last)",
            "\u001b[0;32m<ipython-input-1-2962204f287d>\u001b[0m in \u001b[0;36m<cell line: 1>\u001b[0;34m()\u001b[0m\n\u001b[0;32m----> 1\u001b[0;31m \u001b[0mdata\u001b[0m\u001b[0;34m.\u001b[0m\u001b[0misnull\u001b[0m\u001b[0;34m(\u001b[0m\u001b[0;34m)\u001b[0m\u001b[0;34m.\u001b[0m\u001b[0msum\u001b[0m\u001b[0;34m(\u001b[0m\u001b[0;34m)\u001b[0m\u001b[0;34m\u001b[0m\u001b[0;34m\u001b[0m\u001b[0m\n\u001b[0m",
            "\u001b[0;31mNameError\u001b[0m: name 'data' is not defined"
          ]
        }
      ]
    },
    {
      "cell_type": "code",
      "execution_count": null,
      "metadata": {
        "id": "KflefMcb5_oU"
      },
      "outputs": [],
      "source": [
        "# Smaller dataset so we will use 0.8 / 0.2\n",
        "(train_data, test_data) = data.randomSplit([0.8, 0.2], seed=42)\n",
        "\n",
        "# Build the recommendation model using ALS on the training data\n",
        "als = ALS(maxIter=5, regParam=0.01, userCol=\"userId\", itemCol=\"movieId\", ratingCol=\"rating\")\n",
        "model = als.fit(train_data)\n"
      ]
    },
    {
      "cell_type": "code",
      "execution_count": null,
      "metadata": {
        "colab": {
          "base_uri": "https://localhost:8080/"
        },
        "id": "vDQt3zRkAel1",
        "outputId": "e5406027-23c8-4944-8a01-c4ab88871c37"
      },
      "outputs": [
        {
          "name": "stdout",
          "output_type": "stream",
          "text": [
            "RMSE: 0.81\n"
          ]
        }
      ],
      "source": [
        "# Evaluate the model by computing the RMSE on the test data\n",
        "predictions = model.transform(test_data)\n",
        "new_predictions = predictions.filter(col('prediction') != np.nan)\n",
        "\n",
        "# Create the evaluator\n",
        "evaluator = RegressionEvaluator(labelCol=\"rating\", predictionCol=\"prediction\", metricName=\"rmse\")\n",
        "\n",
        "# Calculate the RMSE\n",
        "rmse = evaluator.evaluate(new_predictions)\n",
        "# Print the RMSE as a float value\n",
        "print(f\"RMSE: {rmse:.2f}\")"
      ]
    },
    {
      "cell_type": "code",
      "execution_count": null,
      "metadata": {
        "colab": {
          "base_uri": "https://localhost:8080/"
        },
        "id": "OZHkjvBQ-6Kn",
        "outputId": "30f69420-b0fe-48e1-bd3c-c317e33b1ca3"
      },
      "outputs": [
        {
          "name": "stdout",
          "output_type": "stream",
          "text": [
            "+------+-------+------+----------+----------+\n",
            "|userId|movieId|rating| timestamp|prediction|\n",
            "+------+-------+------+----------+----------+\n",
            "|     1|    307|   5.0|1147868828|  4.049979|\n",
            "|     1|   1175|   3.5|1147868826| 3.8243296|\n",
            "|     1|   1237|   5.0|1147868839| 3.7773128|\n",
            "|     1|   2012|   2.5|1147868068| 2.7767134|\n",
            "|     1|   2692|   5.0|1147869100| 3.7013233|\n",
            "|     1|   3949|   5.0|1147868678| 3.4603405|\n",
            "|     1|   4973|   4.5|1147869080|  4.477309|\n",
            "|     1|   5912|   3.0|1147878698| 2.9157495|\n",
            "|     1|   7318|   2.0|1147879850| 1.8171695|\n",
            "|     1|   7323|   3.5|1147869119|  3.926831|\n",
            "+------+-------+------+----------+----------+\n",
            "only showing top 10 rows\n",
            "\n"
          ]
        }
      ],
      "source": [
        "predictions.show(n=10)"
      ]
    },
    {
      "cell_type": "code",
      "execution_count": null,
      "metadata": {
        "colab": {
          "base_uri": "https://localhost:8080/"
        },
        "id": "JfCKin1XBy9-",
        "outputId": "9f4e3ad9-3d2a-46be-9bac-7c8bb3fc0000"
      },
      "outputs": [
        {
          "name": "stdout",
          "output_type": "stream",
          "text": [
            "+------+--------------------+--------------------+----------+\n",
            "|userId|               title|              genres|prediction|\n",
            "+------+--------------------+--------------------+----------+\n",
            "|     1|Three Colors: Blu...|               Drama|  4.049979|\n",
            "|     1| Delicatessen (1991)|Comedy|Drama|Romance| 3.8243296|\n",
            "|     1|Seventh Seal, The...|               Drama| 3.7773128|\n",
            "|     1|Back to the Futur...|Adventure|Comedy|...| 2.7767134|\n",
            "|     1|Run Lola Run (Lol...|        Action|Crime| 3.7013233|\n",
            "+------+--------------------+--------------------+----------+\n",
            "only showing top 5 rows\n",
            "\n"
          ]
        }
      ],
      "source": [
        "predictions.join(movies_df, \"movieId\").select(\"userId\", \"title\", \"genres\", \"prediction\").show(5)"
      ]
    },
    {
      "cell_type": "code",
      "execution_count": null,
      "metadata": {
        "colab": {
          "base_uri": "https://localhost:8080/"
        },
        "id": "E25uYeA2ClyD",
        "outputId": "8993ea63-d72d-4f36-f75a-e4fb86bc0bf1"
      },
      "outputs": [
        {
          "name": "stdout",
          "output_type": "stream",
          "text": [
            "+------+--------------------+--------------------+----------+------+\n",
            "|userId|               title|              genres|prediction|tmdbId|\n",
            "+------+--------------------+--------------------+----------+------+\n",
            "|    28|Star Wars: Episod...|Action|Adventure|...| 4.9823318|    11|\n",
            "|    28|Mystery Science T...|       Comedy|Sci-Fi|  4.646061|  3065|\n",
            "|    28|E.T. the Extra-Te...|Children|Drama|Sc...| 3.7027588|   601|\n",
            "|    28|        Alien (1979)|       Horror|Sci-Fi|  5.272458|   348|\n",
            "|    28| Lost Highway (1997)|Crime|Drama|Fanta...|  4.375308|   638|\n",
            "+------+--------------------+--------------------+----------+------+\n",
            "only showing top 5 rows\n",
            "\n"
          ]
        }
      ],
      "source": [
        "# Prediction for the user with userId 25\n",
        "for_one_user = predictions.filter(col(\"userId\") == 28).join(movies_df, \"movieId\").join(links_df, \"movieId\").select(\"userId\", \"title\", \"genres\", \"prediction\", \"tmdbId\")\n",
        "for_one_user.show(5)\n"
      ]
    },
    {
      "cell_type": "code",
      "execution_count": null,
      "metadata": {
        "colab": {
          "base_uri": "https://localhost:8080/"
        },
        "id": "lJW-AjqnnbKz",
        "outputId": "0da20723-b349-405b-b9c6-9cf3c49c3b73"
      },
      "outputs": [
        {
          "name": "stdout",
          "output_type": "stream",
          "text": [
            "Star Wars: Episode IV - A New Hope (1977)\n",
            "https://www.themoviedb.org/movie/11\n",
            "Mystery Science Theater 3000: The Movie (1996)\n",
            "https://www.themoviedb.org/movie/3065\n"
          ]
        }
      ],
      "source": [
        "import webbrowser\n",
        "\n",
        "link = \"https://www.themoviedb.org/movie/\"\n",
        "for movie in for_one_user.take(2):\n",
        "    movieURL = link + str(movie.tmdbId)\n",
        "    print(movie.title)\n",
        "    print(movieURL)\n",
        "    webbrowser.open(movieURL)\n"
      ]
    },
    {
      "cell_type": "code",
      "execution_count": null,
      "metadata": {
        "id": "Ut5goaOQF_Ns"
      },
      "outputs": [],
      "source": [
        "# Generate top 5 movie recommention for each user\n",
        "userRecomments = model.recommendForAllUsers(5)\n",
        "# Generate top 5 user recommention for each movei\n",
        "movieRecomments = model.recommendForAllItems(5)"
      ]
    },
    {
      "cell_type": "code",
      "execution_count": null,
      "metadata": {
        "id": "siIvpqK7HKVL"
      },
      "outputs": [],
      "source": [
        "movieRecomments.select(\"movieId\", \"recommendations.userId\").show(10, False)\n"
      ]
    },
    {
      "cell_type": "code",
      "execution_count": null,
      "metadata": {
        "id": "trTJQs30H-Pm"
      },
      "outputs": [],
      "source": [
        "users = data.select(\"userId\").distinct().limit(3);\n",
        "users.show()\n"
      ]
    },
    {
      "cell_type": "code",
      "execution_count": null,
      "metadata": {
        "id": "lPOUjBSWMe3h"
      },
      "outputs": [],
      "source": [
        "userSubsetRecs = model.recommendForUserSubset(users, 10)\n"
      ]
    },
    {
      "cell_type": "code",
      "execution_count": null,
      "metadata": {
        "id": "ROrTTWISIxcr"
      },
      "outputs": [],
      "source": [
        "\n",
        "userSubsetRecs.show()"
      ]
    },
    {
      "cell_type": "code",
      "execution_count": null,
      "metadata": {
        "id": "M16odNyUPEwb"
      },
      "outputs": [],
      "source": [
        "userSubsetRecs.select(\"userId\", \"recommendations.movieId\").show(10, False)"
      ]
    },
    {
      "cell_type": "code",
      "execution_count": null,
      "metadata": {
        "id": "mUOwXSDMKQCk"
      },
      "outputs": [],
      "source": [
        "# Generate top 10 user recommendation for specied set fo Movie\n",
        "movies = data.select(\"movieId\").distinct().limit(3)\n",
        "movies.show()"
      ]
    },
    {
      "cell_type": "code",
      "execution_count": null,
      "metadata": {
        "id": "hOK98x5rK92a"
      },
      "outputs": [],
      "source": [
        "movieSubSetRecs = model.recommendForItemSubset(movies, 10)\n",
        "movieSubSetRecs.select(\"movieId\", \"recommendations.userId\").show(10, False)"
      ]
    },
    {
      "cell_type": "code",
      "execution_count": null,
      "metadata": {
        "colab": {
          "base_uri": "https://localhost:8080/"
        },
        "id": "QtXRwU1LSLNN",
        "outputId": "e2ec4def-61e5-4496-b884-2c6a45a57e6e"
      },
      "outputs": [
        {
          "name": "stdout",
          "output_type": "stream",
          "text": [
            "+------+-------+----------+\n",
            "|userId|movieId|prediction|\n",
            "+------+-------+----------+\n",
            "|   471|   1580| 3.5902014|\n",
            "|   471|   3175|  3.307518|\n",
            "|   471|   2366| 2.0790517|\n",
            "|   471|   1590| 3.2519007|\n",
            "+------+-------+----------+\n",
            "\n"
          ]
        }
      ],
      "source": [
        "# Prediction for some movies for specified user\n",
        "movie_ids = [1580, 3175, 2366, 1590]\n",
        "user_id = 471\n",
        "# Create a DataFrame with the specified user ID and movie IDs\n",
        "new_user_preds = spark.createDataFrame([(user_id, movie_id) for movie_id in movie_ids], schema=['userId', 'movieId'])\n",
        "# Generate predictions for the specified user and movies\n",
        "new_predictions = model.transform(new_user_preds)\n",
        "# Show the predictions\n",
        "new_predictions.show()\n",
        "\n",
        "\n"
      ]
    },
    {
      "cell_type": "code",
      "execution_count": null,
      "metadata": {
        "colab": {
          "base_uri": "https://localhost:8080/"
        },
        "id": "w7UXM69URqtb",
        "outputId": "701b78de-e516-42dd-a0e6-ba8881d96afd"
      },
      "outputs": [
        {
          "name": "stdout",
          "output_type": "stream",
          "text": [
            "+------+-------+----------+\n",
            "|userId|movieId|prediction|\n",
            "+------+-------+----------+\n",
            "|   471|   1580| 3.5902014|\n",
            "|   471|   3175|  3.307518|\n",
            "|   471|   2366| 2.0790517|\n",
            "|   471|   1590| 3.2519007|\n",
            "+------+-------+----------+\n",
            "\n"
          ]
        }
      ],
      "source": [
        "new_predictions = model.transform(new_user_preds)\n",
        "new_predictions.show()"
      ]
    },
    {
      "cell_type": "code",
      "execution_count": null,
      "metadata": {
        "colab": {
          "base_uri": "https://localhost:8080/"
        },
        "id": "fmM2t1Jv5Yu2",
        "outputId": "96f69040-23a4-4065-bd9f-6584e86f5280"
      },
      "outputs": [
        {
          "name": "stdout",
          "output_type": "stream",
          "text": [
            "+-------+------+\n",
            "|movieId|userId|\n",
            "+-------+------+\n",
            "|      1|    12|\n",
            "|     50|    12|\n",
            "|     88|    12|\n",
            "|    101|    12|\n",
            "|    140|    12|\n",
            "|    163|    12|\n",
            "|    203|    12|\n",
            "|    209|    12|\n",
            "|    257|    12|\n",
            "|    319|    12|\n",
            "|    351|    12|\n",
            "|    377|    12|\n",
            "|    435|    12|\n",
            "|    441|    12|\n",
            "|    442|    12|\n",
            "|    471|    12|\n",
            "|    489|    12|\n",
            "|    497|    12|\n",
            "|    508|    12|\n",
            "|    524|    12|\n",
            "+-------+------+\n",
            "only showing top 20 rows\n",
            "\n",
            "+-------+------+----------+\n",
            "|movieId|userId|prediction|\n",
            "+-------+------+----------+\n",
            "|    745|    12|  4.372803|\n",
            "|   4973|    12|  4.323984|\n",
            "|   1136|    12| 4.2682495|\n",
            "|   1212|    12| 4.2402496|\n",
            "|    926|    12|  4.191748|\n",
            "|    858|    12|  4.170047|\n",
            "|     50|    12|  4.166792|\n",
            "|   3996|    12|  4.119478|\n",
            "|  74416|    12| 4.1137567|\n",
            "|    527|    12|  4.106221|\n",
            "|   1361|    12| 4.0702014|\n",
            "|   1225|    12|  4.038475|\n",
            "|  40870|    12|  4.034732|\n",
            "|  63876|    12| 4.0299177|\n",
            "|   1175|    12| 4.0199904|\n",
            "|   1219|    12| 4.0198536|\n",
            "|   2788|    12| 3.9846127|\n",
            "|   1269|    12| 3.9657178|\n",
            "|  46578|    12| 3.9646838|\n",
            "|   6104|    12| 3.9216926|\n",
            "+-------+------+----------+\n",
            "only showing top 20 rows\n",
            "\n"
          ]
        }
      ],
      "source": [
        "single_user = test_data.filter(test_data['userId']==12).select(['movieId','userId'])\n",
        "\n",
        "# User had 10 ratings in the test data set\n",
        "# Realistically this should be some sort of hold out set!\n",
        "single_user.show()\n",
        "\n",
        "reccomendations = model.transform(single_user)\n",
        "\n",
        "reccomendations.orderBy('prediction',ascending=False).show()"
      ]
    },
    {
      "cell_type": "code",
      "execution_count": null,
      "metadata": {
        "colab": {
          "base_uri": "https://localhost:8080/"
        },
        "id": "NaQsim5JTO_y",
        "outputId": "bc6622a2-c416-4359-b397-dc2cee49b25e"
      },
      "outputs": [
        {
          "name": "stdout",
          "output_type": "stream",
          "text": [
            "+-------+------+\n",
            "|movieId|userId|\n",
            "+-------+------+\n",
            "|      1|    12|\n",
            "|     50|    12|\n",
            "|     88|    12|\n",
            "|    101|    12|\n",
            "|    140|    12|\n",
            "|    163|    12|\n",
            "|    203|    12|\n",
            "|    209|    12|\n",
            "|    257|    12|\n",
            "|    319|    12|\n",
            "|    351|    12|\n",
            "|    377|    12|\n",
            "|    435|    12|\n",
            "|    441|    12|\n",
            "|    442|    12|\n",
            "|    471|    12|\n",
            "|    489|    12|\n",
            "|    497|    12|\n",
            "|    508|    12|\n",
            "|    524|    12|\n",
            "+-------+------+\n",
            "only showing top 20 rows\n",
            "\n",
            "+------+--------------------+--------------------+----------+\n",
            "|userId|               title|              genres|prediction|\n",
            "+------+--------------------+--------------------+----------+\n",
            "|    12|Wallace & Gromit:...|Animation|Childre...|  4.372803|\n",
            "|    12|Amelie (Fabuleux ...|      Comedy|Romance|  4.323984|\n",
            "|    12|Monty Python and ...|Adventure|Comedy|...| 4.2682495|\n",
            "|    12|Third Man, The (1...|Film-Noir|Mystery...| 4.2402496|\n",
            "|    12|All About Eve (1950)|               Drama|  4.191748|\n",
            "|    12|Godfather, The (1...|         Crime|Drama|  4.170047|\n",
            "|    12|Usual Suspects, T...|Crime|Mystery|Thr...|  4.166792|\n",
            "|    12|Crouching Tiger, ...|Action|Drama|Romance|  4.119478|\n",
            "|    12|    Fish Tank (2009)|               Drama| 4.1137567|\n",
            "|    12|Schindler's List ...|           Drama|War|  4.106221|\n",
            "|    12|Paradise Lost: Th...|         Documentary| 4.0702014|\n",
            "|    12|      Amadeus (1984)|               Drama|  4.038475|\n",
            "|    12|   C.R.A.Z.Y. (2005)|               Drama|  4.034732|\n",
            "|    12|         Milk (2008)|               Drama| 4.0299177|\n",
            "|    12| Delicatessen (1991)|Comedy|Drama|Romance| 4.0199904|\n",
            "|    12|       Psycho (1960)|        Crime|Horror| 4.0198536|\n",
            "|    12|Monty Python's An...|              Comedy| 3.9846127|\n",
            "|    12|Arsenic and Old L...|Comedy|Mystery|Th...| 3.9657178|\n",
            "|    12|Little Miss Sunsh...|Adventure|Comedy|...| 3.9646838|\n",
            "|    12|Monty Python Live...|              Comedy| 3.9216926|\n",
            "+------+--------------------+--------------------+----------+\n",
            "only showing top 20 rows\n",
            "\n"
          ]
        }
      ],
      "source": [
        "# User had 10 ratings in the test data set\n",
        "# Realistically this should be some sort of hold out set!\n",
        "single_user = test_data.filter(test_data['userId'] == 12).select(['movieId', 'userId'])\n",
        "\n",
        "# Show the user's ratings in the test data set\n",
        "single_user.show()\n",
        "\n",
        "# Generate recommendations for the specified user\n",
        "recommendations = model.transform(single_user)\n",
        "\n",
        "# Join movie names to the recommendations\n",
        "recommendations_with_movie_name = recommendations.join(movies_df, \"movieId\").select(\n",
        "    \"userId\", \"title\", \"genres\", \"prediction\"\n",
        ")\n",
        "\n",
        "# Show the recommendations sorted by prediction in descending order\n",
        "recommendations_with_movie_name.orderBy('prediction', ascending=False).show()"
      ]
    }
  ],
  "metadata": {
    "colab": {
      "provenance": [],
      "include_colab_link": true
    },
    "kernelspec": {
      "display_name": "Python 3",
      "name": "python3"
    },
    "language_info": {
      "name": "python"
    }
  },
  "nbformat": 4,
  "nbformat_minor": 0
}